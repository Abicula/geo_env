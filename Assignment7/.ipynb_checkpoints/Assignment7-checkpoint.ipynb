{
 "cells": [
  {
   "cell_type": "code",
   "execution_count": 2,
   "id": "e6b5b729-12df-4290-933e-5a3230963d4d",
   "metadata": {
    "tags": []
   },
   "outputs": [],
   "source": [
    "## Importing needed packages\n",
    "\n",
    "import numpy as np\n",
    "import pandas as pd\n",
    "import matplotlib.pyplot as plt\n",
    "import pdb\n",
    "import xarray as xr\n",
    "import csv\n",
    "\n"
   ]
  },
  {
   "cell_type": "code",
   "execution_count": 9,
   "id": "009abff5-fc0b-492d-8ebf-43d40702f0cd",
   "metadata": {
    "tags": []
   },
   "outputs": [],
   "source": [
    "# Assuming the file name is data.tss\n",
    "file_path = './Simulation_outputs/discharge_daily.tss'\n",
    "\n",
    "# Define lists to store timestamps and values\n",
    "timestamps = []\n",
    "values1 = []  # Assuming the first value column\n",
    "values2 = []  # Assuming the second value column\n",
    "\n",
    "# Open the file and read its contents\n",
    "with open(file_path, 'r') as file:\n",
    "    # Skip first lines until we reach the data\n",
    "    for line in file:\n",
    "        if line.strip().isdigit():\n",
    "            break\n",
    "    \n",
    "    # Process the remaining lines containing data\n",
    "    for line in file:\n",
    "        # Split the line by whitespace\n",
    "        parts = line.split()\n",
    "        if len(parts) == 3:  # Assuming timestamp and two values\n",
    "            timestamp = int(parts[0])\n",
    "            value1 = float(parts[1])\n",
    "            value2 = float(parts[2])\n",
    "            \n",
    "            # Append data to lists\n",
    "            timestamps.append(timestamp)\n",
    "            values1.append(value1)\n",
    "            values2.append(value2)\n",
    "\n",
    "# # Print the extracted data\n",
    "# for i in range(len(timestamps)):\n",
    "#     print(f\"Timestamp: {timestamps[i]}, Value1: {values1[i]}, Value2: {values2[i]}\")\n"
   ]
  },
  {
   "cell_type": "code",
   "execution_count": null,
   "id": "2eab3dc7-ddab-4530-b15b-803376baefb7",
   "metadata": {},
   "outputs": [],
   "source": []
  }
 ],
 "metadata": {
  "kernelspec": {
   "display_name": "Python 3 (ipykernel)",
   "language": "python",
   "name": "python3"
  },
  "language_info": {
   "codemirror_mode": {
    "name": "ipython",
    "version": 3
   },
   "file_extension": ".py",
   "mimetype": "text/x-python",
   "name": "python",
   "nbconvert_exporter": "python",
   "pygments_lexer": "ipython3",
   "version": "3.11.5"
  }
 },
 "nbformat": 4,
 "nbformat_minor": 5
}
